{
 "cells": [
  {
   "cell_type": "markdown",
   "id": "b4655289",
   "metadata": {},
   "source": [
    "# Credit Scoring Model using Random Forest\n",
    "This notebook is a submission for the CodeAlpha internship Task 1."
   ]
  },
  {
   "cell_type": "code",
   "execution_count": null,
   "id": "3e2b2adc",
   "metadata": {},
   "outputs": [],
   "source": [
    "\n",
    "# Step 1: Import Libraries\n",
    "import pandas as pd\n",
    "import numpy as np\n",
    "import matplotlib.pyplot as plt\n",
    "import seaborn as sns\n",
    "\n",
    "from sklearn.model_selection import train_test_split\n",
    "from sklearn.ensemble import RandomForestClassifier\n",
    "from sklearn.preprocessing import LabelEncoder\n",
    "from sklearn.metrics import classification_report, confusion_matrix, roc_auc_score, roc_curve\n"
   ]
  },
  {
   "cell_type": "code",
   "execution_count": null,
   "id": "00cc8def",
   "metadata": {},
   "outputs": [],
   "source": [
    "\n",
    "# Step 2: Load Dataset\n",
    "url = \"https://raw.githubusercontent.com/Statology/Python-Guides/main/default.csv\"\n",
    "data = pd.read_csv(url)\n",
    "\n",
    "print(\"Sample Data:\")\n",
    "print(data.head())\n"
   ]
  },
  {
   "cell_type": "code",
   "execution_count": null,
   "id": "3a1f5599",
   "metadata": {},
   "outputs": [],
   "source": [
    "\n",
    "# Step 3: Preprocessing\n",
    "# Encode 'student' column (Yes/No → 1/0)\n",
    "data['student'] = LabelEncoder().fit_transform(data['student'])\n",
    "\n",
    "# Convert target column to numeric (Yes → 1, No → 0)\n",
    "data['default'] = LabelEncoder().fit_transform(data['default'])\n"
   ]
  },
  {
   "cell_type": "code",
   "execution_count": null,
   "id": "c952abd5",
   "metadata": {},
   "outputs": [],
   "source": [
    "\n",
    "# Step 4: Define Features and Target\n",
    "X = data[['student', 'balance', 'income']]\n",
    "y = data['default']\n"
   ]
  },
  {
   "cell_type": "code",
   "execution_count": null,
   "id": "5f4d78bd",
   "metadata": {},
   "outputs": [],
   "source": [
    "\n",
    "# Step 5: Train-Test Split\n",
    "X_train, X_test, y_train, y_test = train_test_split(X, y, test_size=0.2, random_state=42)\n"
   ]
  },
  {
   "cell_type": "code",
   "execution_count": null,
   "id": "de4aaad6",
   "metadata": {},
   "outputs": [],
   "source": [
    "\n",
    "# Step 6: Train Random Forest Classifier\n",
    "model = RandomForestClassifier(n_estimators=100, random_state=42)\n",
    "model.fit(X_train, y_train)\n"
   ]
  },
  {
   "cell_type": "code",
   "execution_count": null,
   "id": "09b9459f",
   "metadata": {},
   "outputs": [],
   "source": [
    "\n",
    "# Step 7: Make Predictions\n",
    "y_pred = model.predict(X_test)\n",
    "y_proba = model.predict_proba(X_test)[:, 1]\n"
   ]
  },
  {
   "cell_type": "code",
   "execution_count": null,
   "id": "13d6a6e9",
   "metadata": {},
   "outputs": [],
   "source": [
    "\n",
    "# Step 8: Evaluate Model\n",
    "print(\"\\nClassification Report:\")\n",
    "print(classification_report(y_test, y_pred))\n"
   ]
  },
  {
   "cell_type": "code",
   "execution_count": null,
   "id": "1f76bdf8",
   "metadata": {},
   "outputs": [],
   "source": [
    "\n",
    "# Confusion Matrix\n",
    "cm = confusion_matrix(y_test, y_pred)\n",
    "sns.heatmap(cm, annot=True, fmt='d', cmap='Greens')\n",
    "plt.title(\"Confusion Matrix\")\n",
    "plt.xlabel(\"Predicted\")\n",
    "plt.ylabel(\"Actual\")\n",
    "plt.tight_layout()\n",
    "plt.savefig(\"confusion_matrix.png\")\n",
    "plt.show()\n"
   ]
  },
  {
   "cell_type": "code",
   "execution_count": null,
   "id": "e3ff5d7c",
   "metadata": {},
   "outputs": [],
   "source": [
    "\n",
    "# ROC Curve\n",
    "fpr, tpr, _ = roc_curve(y_test, y_proba)\n",
    "roc_auc = roc_auc_score(y_test, y_proba)\n",
    "\n",
    "plt.plot(fpr, tpr, label=f\"ROC AUC = {roc_auc:.2f}\")\n",
    "plt.plot([0, 1], [0, 1], 'k--')\n",
    "plt.xlabel(\"False Positive Rate\")\n",
    "plt.ylabel(\"True Positive Rate\")\n",
    "plt.title(\"ROC Curve\")\n",
    "plt.legend(loc=\"lower right\")\n",
    "plt.grid()\n",
    "plt.tight_layout()\n",
    "plt.savefig(\"roc_curve.png\")\n",
    "plt.show()\n"
   ]
  },
  {
   "cell_type": "code",
   "execution_count": null,
   "id": "b60cb05c",
   "metadata": {},
   "outputs": [],
   "source": [
    "\n",
    "# Step 9: Feature Importance\n",
    "importances = model.feature_importances_\n",
    "features = X.columns\n",
    "indices = np.argsort(importances)\n",
    "\n",
    "plt.barh(range(len(indices)), importances[indices], align='center')\n",
    "plt.yticks(range(len(indices)), [features[i] for i in indices])\n",
    "plt.title(\"Feature Importance\")\n",
    "plt.xlabel(\"Importance\")\n",
    "plt.grid(True)\n",
    "plt.tight_layout()\n",
    "plt.savefig(\"feature_importance.png\")\n",
    "plt.show()\n"
   ]
  }
 ],
 "metadata": {},
 "nbformat": 4,
 "nbformat_minor": 5
}
